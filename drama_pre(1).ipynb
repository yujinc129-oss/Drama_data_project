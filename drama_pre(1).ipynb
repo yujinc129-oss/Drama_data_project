{
  "nbformat": 4,
  "nbformat_minor": 0,
  "metadata": {
    "colab": {
      "provenance": [],
      "include_colab_link": true
    },
    "kernelspec": {
      "name": "python3",
      "display_name": "Python 3"
    },
    "language_info": {
      "name": "python"
    }
  },
  "cells": [
    {
      "cell_type": "markdown",
      "metadata": {
        "id": "view-in-github",
        "colab_type": "text"
      },
      "source": [
        "<a href=\"https://colab.research.google.com/github/yujinc129-oss/Drama_data_project/blob/main/drama_pre(1).ipynb\" target=\"_parent\"><img src=\"https://colab.research.google.com/assets/colab-badge.svg\" alt=\"Open In Colab\"/></a>"
      ]
    },
    {
      "cell_type": "code",
      "execution_count": null,
      "metadata": {
        "id": "hf9RqcmNItpS"
      },
      "outputs": [],
      "source": [
        "import pandas as pd\n",
        "import numpy as np"
      ]
    },
    {
      "cell_type": "markdown",
      "source": [
        "# 배우 데이터셋 만들기"
      ],
      "metadata": {
        "id": "_rstBZ0SxM4A"
      }
    },
    {
      "cell_type": "markdown",
      "source": [
        "## 원본 데이터 확인"
      ],
      "metadata": {
        "id": "QoShSXoJxSs_"
      }
    },
    {
      "cell_type": "code",
      "source": [
        "actors_2 = pd.read_csv('/content/drive/MyDrive/Colab Notebooks/data_set/드라마 정보/data/mydramalistactors_tocsv.csv')\n",
        "actors_3 = pd.read_csv('/content/drive/MyDrive/Colab Notebooks/data_set/드라마 정보/data/wiki_actors.csv')"
      ],
      "metadata": {
        "id": "FjIDoS8eWwH3",
        "outputId": "0c04b003-a652-4835-e99a-e5419a4c5805",
        "colab": {
          "base_uri": "https://localhost:8080/",
          "height": 319
        }
      },
      "execution_count": null,
      "outputs": [
        {
          "output_type": "error",
          "ename": "FileNotFoundError",
          "evalue": "[Errno 2] No such file or directory: '/content/drive/MyDrive/Colab Notebooks/data_set/드라마 정보/data/mydramalistactors_tocsv.csv'",
          "traceback": [
            "\u001b[0;31m---------------------------------------------------------------------------\u001b[0m",
            "\u001b[0;31mFileNotFoundError\u001b[0m                         Traceback (most recent call last)",
            "\u001b[0;32m/tmp/ipython-input-2015241271.py\u001b[0m in \u001b[0;36m<cell line: 0>\u001b[0;34m()\u001b[0m\n\u001b[0;32m----> 1\u001b[0;31m \u001b[0mactors_2\u001b[0m \u001b[0;34m=\u001b[0m \u001b[0mpd\u001b[0m\u001b[0;34m.\u001b[0m\u001b[0mread_csv\u001b[0m\u001b[0;34m(\u001b[0m\u001b[0;34m'/content/drive/MyDrive/Colab Notebooks/data_set/드라마 정보/data/mydramalistactors_tocsv.csv'\u001b[0m\u001b[0;34m)\u001b[0m\u001b[0;34m\u001b[0m\u001b[0;34m\u001b[0m\u001b[0m\n\u001b[0m\u001b[1;32m      2\u001b[0m \u001b[0mactors_3\u001b[0m \u001b[0;34m=\u001b[0m \u001b[0mpd\u001b[0m\u001b[0;34m.\u001b[0m\u001b[0mread_csv\u001b[0m\u001b[0;34m(\u001b[0m\u001b[0;34m'/content/drive/MyDrive/Colab Notebooks/data_set/드라마 정보/data/wiki_actors.csv'\u001b[0m\u001b[0;34m)\u001b[0m\u001b[0;34m\u001b[0m\u001b[0;34m\u001b[0m\u001b[0m\n",
            "\u001b[0;32m/usr/local/lib/python3.11/dist-packages/pandas/io/parsers/readers.py\u001b[0m in \u001b[0;36mread_csv\u001b[0;34m(filepath_or_buffer, sep, delimiter, header, names, index_col, usecols, dtype, engine, converters, true_values, false_values, skipinitialspace, skiprows, skipfooter, nrows, na_values, keep_default_na, na_filter, verbose, skip_blank_lines, parse_dates, infer_datetime_format, keep_date_col, date_parser, date_format, dayfirst, cache_dates, iterator, chunksize, compression, thousands, decimal, lineterminator, quotechar, quoting, doublequote, escapechar, comment, encoding, encoding_errors, dialect, on_bad_lines, delim_whitespace, low_memory, memory_map, float_precision, storage_options, dtype_backend)\u001b[0m\n\u001b[1;32m   1024\u001b[0m     \u001b[0mkwds\u001b[0m\u001b[0;34m.\u001b[0m\u001b[0mupdate\u001b[0m\u001b[0;34m(\u001b[0m\u001b[0mkwds_defaults\u001b[0m\u001b[0;34m)\u001b[0m\u001b[0;34m\u001b[0m\u001b[0;34m\u001b[0m\u001b[0m\n\u001b[1;32m   1025\u001b[0m \u001b[0;34m\u001b[0m\u001b[0m\n\u001b[0;32m-> 1026\u001b[0;31m     \u001b[0;32mreturn\u001b[0m \u001b[0m_read\u001b[0m\u001b[0;34m(\u001b[0m\u001b[0mfilepath_or_buffer\u001b[0m\u001b[0;34m,\u001b[0m \u001b[0mkwds\u001b[0m\u001b[0;34m)\u001b[0m\u001b[0;34m\u001b[0m\u001b[0;34m\u001b[0m\u001b[0m\n\u001b[0m\u001b[1;32m   1027\u001b[0m \u001b[0;34m\u001b[0m\u001b[0m\n\u001b[1;32m   1028\u001b[0m \u001b[0;34m\u001b[0m\u001b[0m\n",
            "\u001b[0;32m/usr/local/lib/python3.11/dist-packages/pandas/io/parsers/readers.py\u001b[0m in \u001b[0;36m_read\u001b[0;34m(filepath_or_buffer, kwds)\u001b[0m\n\u001b[1;32m    618\u001b[0m \u001b[0;34m\u001b[0m\u001b[0m\n\u001b[1;32m    619\u001b[0m     \u001b[0;31m# Create the parser.\u001b[0m\u001b[0;34m\u001b[0m\u001b[0;34m\u001b[0m\u001b[0m\n\u001b[0;32m--> 620\u001b[0;31m     \u001b[0mparser\u001b[0m \u001b[0;34m=\u001b[0m \u001b[0mTextFileReader\u001b[0m\u001b[0;34m(\u001b[0m\u001b[0mfilepath_or_buffer\u001b[0m\u001b[0;34m,\u001b[0m \u001b[0;34m**\u001b[0m\u001b[0mkwds\u001b[0m\u001b[0;34m)\u001b[0m\u001b[0;34m\u001b[0m\u001b[0;34m\u001b[0m\u001b[0m\n\u001b[0m\u001b[1;32m    621\u001b[0m \u001b[0;34m\u001b[0m\u001b[0m\n\u001b[1;32m    622\u001b[0m     \u001b[0;32mif\u001b[0m \u001b[0mchunksize\u001b[0m \u001b[0;32mor\u001b[0m \u001b[0miterator\u001b[0m\u001b[0;34m:\u001b[0m\u001b[0;34m\u001b[0m\u001b[0;34m\u001b[0m\u001b[0m\n",
            "\u001b[0;32m/usr/local/lib/python3.11/dist-packages/pandas/io/parsers/readers.py\u001b[0m in \u001b[0;36m__init__\u001b[0;34m(self, f, engine, **kwds)\u001b[0m\n\u001b[1;32m   1618\u001b[0m \u001b[0;34m\u001b[0m\u001b[0m\n\u001b[1;32m   1619\u001b[0m         \u001b[0mself\u001b[0m\u001b[0;34m.\u001b[0m\u001b[0mhandles\u001b[0m\u001b[0;34m:\u001b[0m \u001b[0mIOHandles\u001b[0m \u001b[0;34m|\u001b[0m \u001b[0;32mNone\u001b[0m \u001b[0;34m=\u001b[0m \u001b[0;32mNone\u001b[0m\u001b[0;34m\u001b[0m\u001b[0;34m\u001b[0m\u001b[0m\n\u001b[0;32m-> 1620\u001b[0;31m         \u001b[0mself\u001b[0m\u001b[0;34m.\u001b[0m\u001b[0m_engine\u001b[0m \u001b[0;34m=\u001b[0m \u001b[0mself\u001b[0m\u001b[0;34m.\u001b[0m\u001b[0m_make_engine\u001b[0m\u001b[0;34m(\u001b[0m\u001b[0mf\u001b[0m\u001b[0;34m,\u001b[0m \u001b[0mself\u001b[0m\u001b[0;34m.\u001b[0m\u001b[0mengine\u001b[0m\u001b[0;34m)\u001b[0m\u001b[0;34m\u001b[0m\u001b[0;34m\u001b[0m\u001b[0m\n\u001b[0m\u001b[1;32m   1621\u001b[0m \u001b[0;34m\u001b[0m\u001b[0m\n\u001b[1;32m   1622\u001b[0m     \u001b[0;32mdef\u001b[0m \u001b[0mclose\u001b[0m\u001b[0;34m(\u001b[0m\u001b[0mself\u001b[0m\u001b[0;34m)\u001b[0m \u001b[0;34m->\u001b[0m \u001b[0;32mNone\u001b[0m\u001b[0;34m:\u001b[0m\u001b[0;34m\u001b[0m\u001b[0;34m\u001b[0m\u001b[0m\n",
            "\u001b[0;32m/usr/local/lib/python3.11/dist-packages/pandas/io/parsers/readers.py\u001b[0m in \u001b[0;36m_make_engine\u001b[0;34m(self, f, engine)\u001b[0m\n\u001b[1;32m   1878\u001b[0m                 \u001b[0;32mif\u001b[0m \u001b[0;34m\"b\"\u001b[0m \u001b[0;32mnot\u001b[0m \u001b[0;32min\u001b[0m \u001b[0mmode\u001b[0m\u001b[0;34m:\u001b[0m\u001b[0;34m\u001b[0m\u001b[0;34m\u001b[0m\u001b[0m\n\u001b[1;32m   1879\u001b[0m                     \u001b[0mmode\u001b[0m \u001b[0;34m+=\u001b[0m \u001b[0;34m\"b\"\u001b[0m\u001b[0;34m\u001b[0m\u001b[0;34m\u001b[0m\u001b[0m\n\u001b[0;32m-> 1880\u001b[0;31m             self.handles = get_handle(\n\u001b[0m\u001b[1;32m   1881\u001b[0m                 \u001b[0mf\u001b[0m\u001b[0;34m,\u001b[0m\u001b[0;34m\u001b[0m\u001b[0;34m\u001b[0m\u001b[0m\n\u001b[1;32m   1882\u001b[0m                 \u001b[0mmode\u001b[0m\u001b[0;34m,\u001b[0m\u001b[0;34m\u001b[0m\u001b[0;34m\u001b[0m\u001b[0m\n",
            "\u001b[0;32m/usr/local/lib/python3.11/dist-packages/pandas/io/common.py\u001b[0m in \u001b[0;36mget_handle\u001b[0;34m(path_or_buf, mode, encoding, compression, memory_map, is_text, errors, storage_options)\u001b[0m\n\u001b[1;32m    871\u001b[0m         \u001b[0;32mif\u001b[0m \u001b[0mioargs\u001b[0m\u001b[0;34m.\u001b[0m\u001b[0mencoding\u001b[0m \u001b[0;32mand\u001b[0m \u001b[0;34m\"b\"\u001b[0m \u001b[0;32mnot\u001b[0m \u001b[0;32min\u001b[0m \u001b[0mioargs\u001b[0m\u001b[0;34m.\u001b[0m\u001b[0mmode\u001b[0m\u001b[0;34m:\u001b[0m\u001b[0;34m\u001b[0m\u001b[0;34m\u001b[0m\u001b[0m\n\u001b[1;32m    872\u001b[0m             \u001b[0;31m# Encoding\u001b[0m\u001b[0;34m\u001b[0m\u001b[0;34m\u001b[0m\u001b[0m\n\u001b[0;32m--> 873\u001b[0;31m             handle = open(\n\u001b[0m\u001b[1;32m    874\u001b[0m                 \u001b[0mhandle\u001b[0m\u001b[0;34m,\u001b[0m\u001b[0;34m\u001b[0m\u001b[0;34m\u001b[0m\u001b[0m\n\u001b[1;32m    875\u001b[0m                 \u001b[0mioargs\u001b[0m\u001b[0;34m.\u001b[0m\u001b[0mmode\u001b[0m\u001b[0;34m,\u001b[0m\u001b[0;34m\u001b[0m\u001b[0;34m\u001b[0m\u001b[0m\n",
            "\u001b[0;31mFileNotFoundError\u001b[0m: [Errno 2] No such file or directory: '/content/drive/MyDrive/Colab Notebooks/data_set/드라마 정보/data/mydramalistactors_tocsv.csv'"
          ]
        }
      ]
    },
    {
      "cell_type": "code",
      "source": [
        "from google.colab import drive\n",
        "drive.mount('/content/drive')"
      ],
      "metadata": {
        "id": "StLrqHaLkHIZ",
        "colab": {
          "base_uri": "https://localhost:8080/"
        },
        "outputId": "d86b87d7-b350-4cbd-e2f0-953f2ae26435"
      },
      "execution_count": null,
      "outputs": [
        {
          "output_type": "stream",
          "name": "stdout",
          "text": [
            "Mounted at /content/drive\n"
          ]
        }
      ]
    },
    {
      "cell_type": "code",
      "source": [
        "actors_2.head()"
      ],
      "metadata": {
        "id": "8UjX9wGyaMt2"
      },
      "execution_count": null,
      "outputs": []
    },
    {
      "cell_type": "code",
      "source": [
        "len(actors_2.person.unique())"
      ],
      "metadata": {
        "id": "uCcHnacmXOsX"
      },
      "execution_count": null,
      "outputs": []
    },
    {
      "cell_type": "code",
      "source": [
        "actors_3.head()"
      ],
      "metadata": {
        "id": "sDGrLKLraD4e"
      },
      "execution_count": null,
      "outputs": []
    },
    {
      "cell_type": "code",
      "source": [
        "len(actors_3.actor_name.unique())"
      ],
      "metadata": {
        "id": "v8UjtERgXXYI"
      },
      "execution_count": null,
      "outputs": []
    },
    {
      "cell_type": "code",
      "source": [
        "len(actors_2[actors_2.nationality == 'South Korean'].person.unique())"
      ],
      "metadata": {
        "id": "c5dELrV6Xl3_"
      },
      "execution_count": null,
      "outputs": []
    },
    {
      "cell_type": "markdown",
      "source": [
        "##서로 얼마나 일치하는지 확인\n",
        "세 개 다 합치면 766개, 두 개 합치면 1712개.\n",
        "\n",
        "일단 둘 다 돌려서 확인해보기.\n",
        "\n",
        "생년은 촬영 당시 나이로 환산하기\n",
        "\n"
      ],
      "metadata": {
        "id": "D9NmJL_4eFGe"
      }
    },
    {
      "cell_type": "code",
      "source": [
        "# ac_1 = actors_1.actor.copy()\n",
        "# ac_1_pre = ac_1.str.lower().str.replace(' ','')"
      ],
      "metadata": {
        "id": "y3fz7NAoYGmQ"
      },
      "execution_count": null,
      "outputs": []
    },
    {
      "cell_type": "code",
      "source": [
        "ac_3 = actors_3.actor_name.copy()\n",
        "ac_3_pre = ac_3.str.lower().str.replace(' ','')"
      ],
      "metadata": {
        "id": "mRph6o2IYIqn"
      },
      "execution_count": null,
      "outputs": []
    },
    {
      "cell_type": "code",
      "source": [
        "# #ac_1 + ac_3\n",
        "# chck = pd.merge(ac_1_pre,ac_3_pre,left_on='actor',right_on='actor_name')\n",
        "# len(chck['actor'].unique())"
      ],
      "metadata": {
        "id": "Sr1rQ7tKYV-n"
      },
      "execution_count": null,
      "outputs": []
    },
    {
      "cell_type": "code",
      "source": [
        "ac_2 = actors_2[actors_2.nationality == 'South Korean'].person.copy()\n",
        "ac_2_pre = ac_2.str.lower().str.replace(' ','')"
      ],
      "metadata": {
        "id": "fwVZuBgOaW1G"
      },
      "execution_count": null,
      "outputs": []
    },
    {
      "cell_type": "code",
      "source": [
        "# #ac_1 + ac_2 + ac_3\n",
        "# chck_2 = pd.merge(chck, ac_2_pre, how='left', left_on='actor',right_on='person')\n",
        "# len(chck_2[chck_2.person.notnull()].person.unique())"
      ],
      "metadata": {
        "id": "K7E21wgRax-n"
      },
      "execution_count": null,
      "outputs": []
    },
    {
      "cell_type": "markdown",
      "source": [
        "##병합을 위한 전처리 (소문자 , 띄어쓰기 제외)"
      ],
      "metadata": {
        "id": "OTwd12jthr4V"
      }
    },
    {
      "cell_type": "code",
      "source": [
        "# ac_1 = actors_1.copy()\n",
        "# ac_1.kdrama_name = ac_1.kdrama_name.str.lower().str.replace(' ','')\n",
        "# ac_1.actor = ac_1.actor.str.lower().str.replace(' ','')\n",
        "# ac_1 = ac_1.rename(columns={'kdrama_name':'drama'})\n",
        "# ac_1"
      ],
      "metadata": {
        "id": "CgfhPKDjhq_3"
      },
      "execution_count": null,
      "outputs": []
    },
    {
      "cell_type": "code",
      "source": [
        "ac_2 = actors_2[actors_2.nationality =='South Korean'][['person','gender','dob']].copy()\n",
        "ac_2.person = ac_2.person.str.lower().str.replace(' ','')\n",
        "ac_2 = ac_2.rename(columns={'person':'actor'})\n",
        "ac_2 = ac_2.drop_duplicates()"
      ],
      "metadata": {
        "id": "rmZAmP3viUtt"
      },
      "execution_count": null,
      "outputs": []
    },
    {
      "cell_type": "code",
      "source": [
        "ac_3 = actors_3[['actor_name','drama_name','role']].copy()\n",
        "ac_3.actor_name = ac_3.actor_name.str.lower().str.replace(' ','')\n",
        "ac_3.drama_name= ac_3.drama_name.str.lower().str.replace(' ','')\n",
        "ac_3 = ac_3.rename(columns={'actor_name':'actor','drama_name':'drama'})\n",
        "ac_3"
      ],
      "metadata": {
        "id": "HX6pJsmEjBRk"
      },
      "execution_count": null,
      "outputs": []
    },
    {
      "cell_type": "markdown",
      "source": [
        "##Merge (ac_2 + ac_3)\n",
        "생각해보니까 ac_1가 딱히 필요 없음\n",
        "\n",
        "ac_3처럼 역할 컬럼도 없는데...\n",
        "\n",
        "그냥 손절~\n",
        "\n",
        "ac_2, 3 이랑 합치니까 row 수 늘어남. 814개 개이득\n",
        "\n",
        "그러므로 merge_1 과 ac_2를 비교하기"
      ],
      "metadata": {
        "id": "Nd1Bfu9Oj33E"
      }
    },
    {
      "cell_type": "code",
      "source": [
        "mg_1 = pd.merge(ac_3, ac_2, how='inner', on='actor')\n",
        "mg_1"
      ],
      "metadata": {
        "id": "YifIOpq4j29d"
      },
      "execution_count": null,
      "outputs": []
    },
    {
      "cell_type": "code",
      "source": [
        "len(mg_1.actor.unique())"
      ],
      "metadata": {
        "id": "T4NjslwQmaY8"
      },
      "execution_count": null,
      "outputs": []
    },
    {
      "cell_type": "markdown",
      "source": [
        "##또 다시 전처리(인코딩)\n",
        "\n",
        "파생 변수 만드려고 하는데 아직 드라마 연도를 모름.\n",
        "\n",
        "드라마 정보까지 합친 다음에 변환하기\n",
        "\n",
        "인코딩은 그냥 모델링 과정에서 하는 게 더 안정적이다. 일단 패스!"
      ],
      "metadata": {
        "id": "_YtobBR3m5UN"
      }
    },
    {
      "cell_type": "code",
      "source": [
        "#태어난 연도만 뽑기\n",
        "\n",
        "mg_1.dob = mg_1.dob.str.slice(start=-4)\n",
        "mg_1 = mg_1.rename(columns={'dob' : 'birth_y'})"
      ],
      "metadata": {
        "id": "6VEl6vhinAjj"
      },
      "execution_count": null,
      "outputs": []
    },
    {
      "cell_type": "code",
      "source": [
        "mg_1"
      ],
      "metadata": {
        "id": "s-f8KzoPwvXA"
      },
      "execution_count": null,
      "outputs": []
    },
    {
      "cell_type": "markdown",
      "source": [
        "#드라마 데이터셋 만들기"
      ],
      "metadata": {
        "id": "zC_7AsZjxuwo"
      }
    },
    {
      "cell_type": "markdown",
      "source": [
        "##원본 데이터 확인\n",
        "뭔가 1000개 넘개 데이터가 사라졌지만...\n",
        "일단 레쓰고\n",
        "\n",
        "나중에 더 보완할만한 데이터 있으면 찾아서 적용해보자\n"
      ],
      "metadata": {
        "id": "linsP0kbxz-_"
      }
    },
    {
      "cell_type": "code",
      "source": [
        "drama_1 = pd.read_csv('/content/drive/MyDrive/Colab Notebooks/data_set/드라마 정보/data/kdramalist.csv')"
      ],
      "metadata": {
        "id": "V9Q3yHBoxzRQ"
      },
      "execution_count": null,
      "outputs": []
    },
    {
      "cell_type": "code",
      "source": [
        "drama_1.info()"
      ],
      "metadata": {
        "id": "HDG74yWy1Z2G"
      },
      "execution_count": null,
      "outputs": []
    },
    {
      "cell_type": "code",
      "source": [
        "drama_1.head()"
      ],
      "metadata": {
        "id": "k3Fz7R6W3O_Q"
      },
      "execution_count": null,
      "outputs": []
    },
    {
      "cell_type": "code",
      "source": [
        "drama_1.columns"
      ],
      "metadata": {
        "id": "reA-jbkY3xGn"
      },
      "execution_count": null,
      "outputs": []
    },
    {
      "cell_type": "code",
      "source": [
        "d_1 = drama_1[['drama_name','Genres','start airing','Aired On','Original Network','score','scored by',]].copy()"
      ],
      "metadata": {
        "id": "jfs6t5q33mGH"
      },
      "execution_count": null,
      "outputs": []
    },
    {
      "cell_type": "code",
      "source": [
        "d_1_c = d_1.drama_name.str.lower().str.replace(' ','')"
      ],
      "metadata": {
        "id": "5ZdzA-N053fH"
      },
      "execution_count": null,
      "outputs": []
    },
    {
      "cell_type": "code",
      "source": [
        "test = pd.merge(mg_1.drama, d_1_c, left_on = 'drama',right_on='drama_name')\n",
        "test"
      ],
      "metadata": {
        "id": "s0pRw24y6EEN"
      },
      "execution_count": null,
      "outputs": []
    },
    {
      "cell_type": "markdown",
      "source": [
        "##전처리"
      ],
      "metadata": {
        "id": "v-VT8dPlDxIb"
      }
    },
    {
      "cell_type": "code",
      "source": [
        "d_1.head()"
      ],
      "metadata": {
        "id": "x18HGyPQDpgG"
      },
      "execution_count": null,
      "outputs": []
    },
    {
      "cell_type": "code",
      "source": [
        "d_1.drama_name = d_1.drama_name.str.lower().str.replace(' ','')\n",
        "d_1"
      ],
      "metadata": {
        "id": "EOGkbeASEAgC"
      },
      "execution_count": null,
      "outputs": []
    },
    {
      "cell_type": "code",
      "source": [
        "def clean_genres(genre_list):\n",
        "  if isinstance(genre_list, list):\n",
        "    return [genre.strip().replace(\"'\", \"\") for genre in genre_list]\n",
        "  return genre_list\n",
        "\n",
        "d_1.Genres = d_1.Genres.apply(clean_genres)"
      ],
      "metadata": {
        "id": "YBSiuKwSG6Mp"
      },
      "execution_count": null,
      "outputs": []
    },
    {
      "cell_type": "code",
      "source": [
        "d_1.Genres[0] + d_1.Genres[1]"
      ],
      "metadata": {
        "id": "uEnDJKABHIOC"
      },
      "execution_count": null,
      "outputs": []
    },
    {
      "cell_type": "code",
      "source": [
        "d_1"
      ],
      "metadata": {
        "id": "yPoYku3jQ1nT"
      },
      "execution_count": null,
      "outputs": []
    },
    {
      "cell_type": "code",
      "source": [
        "print(d_1.Genres)"
      ],
      "metadata": {
        "id": "a3y3S3gMIdr0"
      },
      "execution_count": null,
      "outputs": []
    },
    {
      "cell_type": "code",
      "source": [
        "d_1.Genres.info()"
      ],
      "metadata": {
        "id": "20Pgyu3OJFbo"
      },
      "execution_count": null,
      "outputs": []
    },
    {
      "cell_type": "code",
      "source": [
        "test = d_1.Genres[d_1.Genres.notnull()]"
      ],
      "metadata": {
        "id": "dwBPjPZpJXXZ"
      },
      "execution_count": null,
      "outputs": []
    },
    {
      "cell_type": "code",
      "source": [
        "k = []\n",
        "\n",
        "for x in test:\n",
        "  k.extend(x)"
      ],
      "metadata": {
        "id": "A7r0r4evIv7J"
      },
      "execution_count": null,
      "outputs": []
    },
    {
      "cell_type": "code",
      "source": [
        "k_1 = pd.DataFrame(k)\n",
        "k_1[0].unique()"
      ],
      "metadata": {
        "id": "9dkne0SkJqpx"
      },
      "execution_count": null,
      "outputs": []
    },
    {
      "cell_type": "code",
      "source": [
        "k_1.value_counts()"
      ],
      "metadata": {
        "id": "coTyW4KgLP5R"
      },
      "execution_count": null,
      "outputs": []
    },
    {
      "cell_type": "code",
      "source": [
        "thriller = ['mystery','thriller','crime','psychological','horror','tokusatsu']\n",
        "sf = ['fantasy','sci-fi','supernatural','adventure']\n",
        "society = ['business','law','political','law','medical']\n",
        "youth = ['youth','school','friendship']\n",
        "hist_war = ['military','war','historical']\n",
        "comedy = ['comedy','sitcom']\n",
        "romance = ['romance','melodrama']\n",
        "action = ['action','martial arts']\n",
        "drama = ['drama','life','family']\n",
        "etc = ['mature']\n",
        "\n",
        "gen = [thriller,sf,society,youth,hist_war,comedy,romance,action,drama]\n"
      ],
      "metadata": {
        "id": "yrBDPX8hNQDo"
      },
      "execution_count": null,
      "outputs": []
    },
    {
      "cell_type": "code",
      "source": [
        "for x in test:\n",
        "  for y in x:\n",
        "    for z in gen:\n",
        "      if y in z:\n",
        "        y = str(z)\n",
        "\n",
        "test"
      ],
      "metadata": {
        "id": "mNXLBW06cU-y"
      },
      "execution_count": null,
      "outputs": []
    },
    {
      "cell_type": "code",
      "source": [
        "drama = d_1.dropna()"
      ],
      "metadata": {
        "id": "k_lJJEKJcf7d"
      },
      "execution_count": null,
      "outputs": []
    },
    {
      "cell_type": "code",
      "source": [
        "#연도 변환\n",
        "date_origin = drama['start airing']\n",
        "date_clean = pd.to_datetime(date_origin, errors='coerce')\n",
        "year = date_clean.dt.year\n"
      ],
      "metadata": {
        "id": "qX2tntoXeGgW"
      },
      "execution_count": null,
      "outputs": []
    },
    {
      "cell_type": "code",
      "source": [
        "drama['start airing'] = year"
      ],
      "metadata": {
        "id": "99arPBs34gyK"
      },
      "execution_count": null,
      "outputs": []
    },
    {
      "cell_type": "code",
      "source": [
        "drama"
      ],
      "metadata": {
        "id": "2yTw1ayl4oTa"
      },
      "execution_count": null,
      "outputs": []
    },
    {
      "cell_type": "code",
      "source": [
        "#네트워크 변환\n",
        "drama['Aired On'] = drama['Aired On'].str.slice(1, -1).str.replace(\"'\",\"\").str.split(',')"
      ],
      "metadata": {
        "id": "Zve8yDzd5tc_"
      },
      "execution_count": null,
      "outputs": []
    },
    {
      "cell_type": "code",
      "source": [
        "drama['Original Network']=drama['Original Network'].str.slice(1,-1).str.replace(\"'\",\"\").str.upper()"
      ],
      "metadata": {
        "id": "1f7REIrh6rkf",
        "outputId": "2a1bd1c5-6fdd-4b0c-fa13-19deba674a4e",
        "colab": {
          "base_uri": "https://localhost:8080/",
          "height": 148
        }
      },
      "execution_count": null,
      "outputs": [
        {
          "output_type": "error",
          "ename": "NameError",
          "evalue": "name 'drama' is not defined",
          "traceback": [
            "\u001b[0;31m---------------------------------------------------------------------------\u001b[0m",
            "\u001b[0;31mNameError\u001b[0m                                 Traceback (most recent call last)",
            "\u001b[0;32m/tmp/ipython-input-2849562570.py\u001b[0m in \u001b[0;36m<cell line: 0>\u001b[0;34m()\u001b[0m\n\u001b[0;32m----> 1\u001b[0;31m \u001b[0mdrama\u001b[0m\u001b[0;34m[\u001b[0m\u001b[0;34m'Original Network'\u001b[0m\u001b[0;34m]\u001b[0m\u001b[0;34m=\u001b[0m\u001b[0mdrama\u001b[0m\u001b[0;34m[\u001b[0m\u001b[0;34m'Original Network'\u001b[0m\u001b[0;34m]\u001b[0m\u001b[0;34m.\u001b[0m\u001b[0mstr\u001b[0m\u001b[0;34m.\u001b[0m\u001b[0mslice\u001b[0m\u001b[0;34m(\u001b[0m\u001b[0;36m1\u001b[0m\u001b[0;34m,\u001b[0m\u001b[0;34m-\u001b[0m\u001b[0;36m1\u001b[0m\u001b[0;34m)\u001b[0m\u001b[0;34m.\u001b[0m\u001b[0mstr\u001b[0m\u001b[0;34m.\u001b[0m\u001b[0mreplace\u001b[0m\u001b[0;34m(\u001b[0m\u001b[0;34m\"'\"\u001b[0m\u001b[0;34m,\u001b[0m\u001b[0;34m\"\"\u001b[0m\u001b[0;34m)\u001b[0m\u001b[0;34m.\u001b[0m\u001b[0mstr\u001b[0m\u001b[0;34m.\u001b[0m\u001b[0mupper\u001b[0m\u001b[0;34m(\u001b[0m\u001b[0;34m)\u001b[0m\u001b[0;34m\u001b[0m\u001b[0;34m\u001b[0m\u001b[0m\n\u001b[0m",
            "\u001b[0;31mNameError\u001b[0m: name 'drama' is not defined"
          ]
        }
      ]
    },
    {
      "cell_type": "code",
      "source": [
        "drama['scored by'].describe()"
      ],
      "metadata": {
        "id": "P7uK5A6F7_ox"
      },
      "execution_count": null,
      "outputs": []
    },
    {
      "cell_type": "code",
      "source": [
        "drama['score'].describe()"
      ],
      "metadata": {
        "id": "f-UDB63s84wn"
      },
      "execution_count": null,
      "outputs": []
    },
    {
      "cell_type": "code",
      "source": [
        "#가중 평점 변환\n",
        "m = 8500\n",
        "drama['score_weighted'] = (drama['scored by'] / (drama['scored by'] + m)) * drama['score'] + (m / (drama['scored by']+m)) * drama['score'].mean()"
      ],
      "metadata": {
        "id": "ZzJSynk1-fLe"
      },
      "execution_count": null,
      "outputs": []
    },
    {
      "cell_type": "code",
      "source": [
        "drama_p = drama.drop(columns=['score','scored by'])\n",
        "drama_p.score_weighted=drama_p.score_weighted.round(2)\n",
        "drama_p"
      ],
      "metadata": {
        "id": "Yygx1hbeAhPm"
      },
      "execution_count": null,
      "outputs": []
    },
    {
      "cell_type": "code",
      "source": [
        "drama_p.to_csv('data_for_add')"
      ],
      "metadata": {
        "id": "-ATa6RTsPb31"
      },
      "execution_count": null,
      "outputs": []
    },
    {
      "cell_type": "code",
      "source": [
        "drama_p['Genres']= drama_p['Genres'].str.slice(1,-1).str.replace(\"'\",'').str.split(',')"
      ],
      "metadata": {
        "id": "uWRZE0TdBsf1"
      },
      "execution_count": null,
      "outputs": []
    },
    {
      "cell_type": "code",
      "source": [
        "drama_p['start airing'].max()"
      ],
      "metadata": {
        "id": "fz_bz01qCCNF"
      },
      "execution_count": null,
      "outputs": []
    },
    {
      "cell_type": "code",
      "source": [
        "g= drama_p['Genres']"
      ],
      "metadata": {
        "id": "buE6pZOScahb"
      },
      "execution_count": null,
      "outputs": []
    },
    {
      "cell_type": "code",
      "source": [
        "# name = ['thriller','sf','society','youth','hist_war','comedy','romance','action','drama', 'etc']  # 'etc' 포함\n",
        "\n",
        "# g_list = []  # 결과 저장용\n",
        "\n",
        "# for a in g:\n",
        "#     n_list = []\n",
        "#     for b in a:\n",
        "#         matched = False\n",
        "#         for x in name:\n",
        "#             if b in dic[x]:\n",
        "#                 if x not in n_list:\n",
        "#                     n_list.append(x)\n",
        "#                 matched = True\n",
        "#         if not matched and b in ['food', 'music', 'sports']:\n",
        "#             if b not in n_list:\n",
        "#                 n_list.append(b)\n",
        "\n",
        "#     g_list.append(n_list)  # 한 줄 결과 저장\n",
        "\n",
        "# # 예시 출력\n",
        "# for row in g_list[:10]:\n",
        "#     print(row)\n"
      ],
      "metadata": {
        "id": "PZLSwqKHEJ6U"
      },
      "execution_count": null,
      "outputs": []
    },
    {
      "cell_type": "code",
      "source": [
        "drama_p['Original Network'] = drama_p['Original Network'].str.split(',')"
      ],
      "metadata": {
        "id": "T2BBlb3LIwHH"
      },
      "execution_count": null,
      "outputs": []
    },
    {
      "cell_type": "code",
      "source": [
        "drama_p"
      ],
      "metadata": {
        "id": "1PikqKeTUVDA"
      },
      "execution_count": null,
      "outputs": []
    },
    {
      "cell_type": "markdown",
      "source": [
        "#배우 + 드라마 데이터 병합"
      ],
      "metadata": {
        "id": "To1nBzQRvZcl"
      }
    },
    {
      "cell_type": "code",
      "source": [
        "DATA= pd.merge(mg_1, drama_p, left_on='drama', right_on='drama_name')\n",
        "DATA"
      ],
      "metadata": {
        "id": "lgFSBtjwS-7I"
      },
      "execution_count": null,
      "outputs": []
    },
    {
      "cell_type": "code",
      "source": [
        "DATA['birth_y'] = pd.to_numeric(DATA['birth_y'], errors='coerce')\n",
        "DATA['age'] = DATA['start airing'] - DATA['birth_y'] + 1"
      ],
      "metadata": {
        "id": "IcDRFifsugw2"
      },
      "execution_count": null,
      "outputs": []
    },
    {
      "cell_type": "code",
      "source": [],
      "metadata": {
        "id": "KhdjjPjfu4y2"
      },
      "execution_count": null,
      "outputs": []
    },
    {
      "cell_type": "code",
      "source": [
        "data_drama = DATA.drop(columns=['birth_y','drama_name','start airing'])"
      ],
      "metadata": {
        "id": "4C8olejEu-a2"
      },
      "execution_count": null,
      "outputs": []
    },
    {
      "cell_type": "code",
      "source": [
        "data_drama"
      ],
      "metadata": {
        "id": "ISX5KOA9vKwN"
      },
      "execution_count": null,
      "outputs": []
    },
    {
      "cell_type": "code",
      "source": [
        "thriller = ['mystery','thriller','crime','psychological','horror','tokusatsu']\n",
        "sf = ['fantasy','sci-fi','supernatural','adventure']\n",
        "society = ['business','law','political','law','medical']\n",
        "youth = ['youth','school','friendship']\n",
        "hist_war = ['military','war','historical']\n",
        "comedy = ['comedy','sitcom']\n",
        "romance = ['romance','melodrama']\n",
        "action = ['action','martial arts']\n",
        "drama = ['drama','life','family']\n",
        "etc = ['mature']\n",
        "\n",
        "\n",
        "name = ['thriller','sf','society','youth','hist_war','comedy','romance','action','drama']\n",
        "\n",
        "dic = {'thriller':thriller, 'sf':sf, 'society':society, 'youth':youth, 'hist_war':hist_war,'comedy':comedy, 'romance':romance,'action':action,'drama': drama, 'etc' :etc}"
      ],
      "metadata": {
        "id": "Kl4XrUHvvUH9"
      },
      "execution_count": null,
      "outputs": []
    },
    {
      "cell_type": "code",
      "source": [
        "data_drama['Genres']"
      ],
      "metadata": {
        "id": "UhEKzf1kvwqW"
      },
      "execution_count": null,
      "outputs": []
    },
    {
      "cell_type": "code",
      "source": [
        "def transform_genre(genre_list):\n",
        "    \"\"\"\n",
        "    장르 리스트를 새로운 카테고리로 변환하는 함수 (공백 제거 기능 추가)\n",
        "    \"\"\"\n",
        "    genre_map = {\n",
        "        'thriller': ['mystery', 'thriller', 'crime', 'psychological', 'horror', 'tokusatsu'],\n",
        "        'sf': ['fantasy', 'sci-fi', 'supernatural', 'adventure'],\n",
        "        'society': ['business', 'law', 'political', 'medical'],\n",
        "        'youth': ['youth', 'school', 'friendship'],\n",
        "        'hist_war': ['military', 'war', 'historical'],\n",
        "        'comedy': ['comedy', 'sitcom'],\n",
        "        'romance': ['romance', 'melodrama'],\n",
        "        'action': ['action', 'martial arts'],\n",
        "        'drama': ['drama', 'life', 'family'],\n",
        "        'etc': ['mature']\n",
        "    }\n",
        "\n",
        "    transformed_genres = set()\n",
        "    keep_genres = ['food', 'music', 'sports']\n",
        "\n",
        "    for genre in genre_list:\n",
        "        # ✨ 이 부분이 핵심! 각 장르의 앞뒤 공백을 제거합니다.\n",
        "        genre = genre.strip()\n",
        "\n",
        "        if genre in keep_genres:\n",
        "            transformed_genres.add(genre)\n",
        "            continue\n",
        "\n",
        "        for category, values in genre_map.items():\n",
        "            if genre in values:\n",
        "                transformed_genres.add(category)\n",
        "                break\n",
        "\n",
        "    return list(transformed_genres)\n",
        "\n",
        "# --- 사용자 데이터로 테스트 ---\n",
        "genres0 = ['romance', ' drama', ' melodrama', ' political']\n",
        "\n",
        "# --- 함수 실행 및 결과 확인 ---\n",
        "# sorted() 함수를 추가하여 결과를 항상 동일한 순서로 볼 수 있게 합니다.\n",
        "transformed = sorted(transform_genre(genres0))\n",
        "print(f\"Original: {genres0} -> Transformed: {transformed}\")"
      ],
      "metadata": {
        "id": "i-qO0ZCQwVlv"
      },
      "execution_count": null,
      "outputs": []
    },
    {
      "cell_type": "code",
      "source": [
        "for x in range(len(data_drama['Genres'])):\n",
        "  data_drama['Genres'].loc[x] = transform_genre(data_drama['Genres'].loc[x])\n",
        "\n",
        "\n"
      ],
      "metadata": {
        "id": "uFQlrwmnwsal"
      },
      "execution_count": null,
      "outputs": []
    },
    {
      "cell_type": "code",
      "source": [
        "transform_genre(data_drama['Genres'].loc[0])"
      ],
      "metadata": {
        "id": "lmGtr1dfxLwd"
      },
      "execution_count": null,
      "outputs": []
    },
    {
      "cell_type": "code",
      "source": [
        "data_drama"
      ],
      "metadata": {
        "id": "lSF_QGOkysEP"
      },
      "execution_count": null,
      "outputs": []
    },
    {
      "cell_type": "code",
      "source": [
        "data_drama.to_csv('data_drama_set')"
      ],
      "metadata": {
        "id": "ljvoTt-gy2oE"
      },
      "execution_count": null,
      "outputs": []
    }
  ]
}